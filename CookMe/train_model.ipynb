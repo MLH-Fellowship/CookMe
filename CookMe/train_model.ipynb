{
 "cells": [
  {
   "cell_type": "code",
   "execution_count": 23,
   "metadata": {},
   "outputs": [
    {
     "name": "stdout",
     "output_type": "stream",
     "text": [
      "Found 67692 images belonging to 131 classes.\n",
      "Found 22688 images belonging to 131 classes.\n",
      "Model: \"sequential_8\"\n",
      "_________________________________________________________________\n",
      "Layer (type)                 Output Shape              Param #   \n",
      "=================================================================\n",
      "mobilenet_1.00_128 (Model)   (None, 4, 4, 1024)        3228864   \n",
      "_________________________________________________________________\n",
      "global_average_pooling2d_8 ( (None, 1024)              0         \n",
      "_________________________________________________________________\n",
      "dense_8 (Dense)              (None, 131)               134275    \n",
      "=================================================================\n",
      "Total params: 3,363,139\n",
      "Trainable params: 134,275\n",
      "Non-trainable params: 3,228,864\n",
      "_________________________________________________________________\n",
      "2116/2116 [==============================] - 4676s 2s/step - loss: 0.1492 - accuracy: 0.9746 - val_loss: 9.0001 - val_accuracy: 0.0196\n"
     ]
    }
   ],
   "source": [
    "from __future__ import absolute_import, division, print_function, unicode_literals\n",
    "\n",
    "import os\n",
    "\n",
    "import tensorflow as tf\n",
    "\n",
    "import numpy\n",
    "\n",
    "zip_file = tf.keras.utils.get_file(origin=\"https://www.kaggle.com/moltean/fruits?resource=download&downloadHash=14b8c2fc75851029ee0ee978058a11d1270b0bd13642ad3b32dad593617612eb\", fname=\"archive.zip\", extract=True)\n",
    "base_dir, _ = os.path.splitext('/Users/eamspoker21/fruits-360')\n",
    "\n",
    "\n",
    "train_dir = os.path.join(base_dir, 'Training')\n",
    "validation_dir = os.path.join(base_dir, 'Test')\n",
    "\n",
    "image_size = 128\n",
    "batch_size = 32\n",
    "\n",
    "train_datagen = tf.keras.preprocessing.image.ImageDataGenerator()\n",
    "\n",
    "train_generator = train_datagen.flow_from_directory(directory=train_dir, target_size=(image_size, image_size), batch_size=batch_size)\n",
    "\n",
    "validation_datagen = tf.keras.preprocessing.image.ImageDataGenerator()\n",
    "\n",
    "validation_generator = validation_datagen.flow_from_directory(directory=validation_dir, target_size=(image_size, image_size), batch_size=batch_size)\n",
    "\n",
    "IMG_SHAPE = (image_size, image_size, 3)\n",
    "\n",
    "base_model = tf.keras.applications.MobileNet(input_shape=IMG_SHAPE, include_top=False)\n",
    "base_model.trainable = False\n",
    "\n",
    "model = tf.keras.Sequential([\n",
    "  base_model,\n",
    "  tf.keras.layers.GlobalAveragePooling2D(),\n",
    "  tf.keras.layers.Dense(131, activation='softmax')\n",
    "])\n",
    "\n",
    "model.summary()\n",
    "\n",
    "model.compile(optimizer=tf.keras.optimizers.Adam(),\n",
    "              loss='categorical_crossentropy',\n",
    "              metrics=['accuracy'])\n",
    "\n",
    "epochs = 1\n",
    "steps_per_epoch = numpy.ceil(train_generator.n / batch_size)\n",
    "validation_steps = numpy.ceil(validation_generator.n / batch_size)\n",
    "\n",
    "history = model.fit_generator(generator=train_generator,\n",
    "                              steps_per_epoch = steps_per_epoch,\n",
    "                              epochs=epochs,\n",
    "                              validation_data=validation_generator,\n",
    "                              validation_steps=validation_steps)"
   ]
  },
  {
   "cell_type": "code",
   "execution_count": 26,
   "metadata": {},
   "outputs": [
    {
     "name": "stdout",
     "output_type": "stream",
     "text": [
      "INFO:tensorflow:Assets written to: content/TFLite/assets\n"
     ]
    }
   ],
   "source": [
    "saved_model_dir = 'content/TFLite'\n",
    "tf.saved_model.save(model, saved_model_dir)\n",
    "\n",
    "converter = tf.lite.TFLiteConverter.from_saved_model(saved_model_dir)\n",
    "tflite_model = converter.convert()\n",
    "\n",
    "with open('model.tflite', 'wb') as f:\n",
    "  f.write(tflite_model)\n",
    "\n",
    "labels = '\\n'.join(sorted(train_generator.class_indices.keys()))\n",
    "\n",
    "with open('labels.txt', 'w') as f:\n",
    "  f.write(labels)"
   ]
  },
  {
   "cell_type": "code",
   "execution_count": null,
   "metadata": {},
   "outputs": [],
   "source": []
  }
 ],
 "metadata": {
  "kernelspec": {
   "display_name": "Python 3",
   "language": "python",
   "name": "python3"
  },
  "language_info": {
   "codemirror_mode": {
    "name": "ipython",
    "version": 3
   },
   "file_extension": ".py",
   "mimetype": "text/x-python",
   "name": "python",
   "nbconvert_exporter": "python",
   "pygments_lexer": "ipython3",
   "version": "3.7.3"
  }
 },
 "nbformat": 4,
 "nbformat_minor": 2
}
